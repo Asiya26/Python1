{
  "nbformat": 4,
  "nbformat_minor": 0,
  "metadata": {
    "colab": {
      "name": "(Password Reminder).ipynb",
      "provenance": [],
      "authorship_tag": "ABX9TyN72ilQUec3ajVN+7DZgsp8",
      "include_colab_link": true
    },
    "kernelspec": {
      "name": "python3",
      "display_name": "Python 3"
    },
    "language_info": {
      "name": "python"
    }
  },
  "cells": [
    {
      "cell_type": "markdown",
      "metadata": {
        "id": "view-in-github",
        "colab_type": "text"
      },
      "source": [
        "<a href=\"https://colab.research.google.com/github/Asiya26/Python1/blob/main/(Password_Reminder).ipynb\" target=\"_parent\"><img src=\"https://colab.research.google.com/assets/colab-badge.svg\" alt=\"Open In Colab\"/></a>"
      ]
    },
    {
      "cell_type": "code",
      "metadata": {
        "id": "IEZjH9zMVb65"
      },
      "source": [
        "name = 'ASIYA'\n",
        "password = 'W@12'\n",
        "text = input('Enter your name: ').upper()\n",
        "if name == text:\n",
        "  print(f'Hello, {name} ! The password is : {password}')\n",
        "else:\n",
        "  print(f'Hello,{text}! See you later.')\n"
      ],
      "execution_count": null,
      "outputs": []
    }
  ]
}