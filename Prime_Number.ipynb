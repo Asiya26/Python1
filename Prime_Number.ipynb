{
  "nbformat": 4,
  "nbformat_minor": 0,
  "metadata": {
    "colab": {
      "name": "Prime Number.ipynb",
      "provenance": [],
      "collapsed_sections": [],
      "authorship_tag": "ABX9TyN9Ek7KcJfs5TYWKXA1H+t5",
      "include_colab_link": true
    },
    "kernelspec": {
      "name": "python3",
      "display_name": "Python 3"
    },
    "language_info": {
      "name": "python"
    }
  },
  "cells": [
    {
      "cell_type": "markdown",
      "metadata": {
        "id": "view-in-github",
        "colab_type": "text"
      },
      "source": [
        "<a href=\"https://colab.research.google.com/github/Asiya26/Python1/blob/main/Prime_Number.ipynb\" target=\"_parent\"><img src=\"https://colab.research.google.com/assets/colab-badge.svg\" alt=\"Open In Colab\"/></a>"
      ]
    },
    {
      "cell_type": "code",
      "metadata": {
        "id": "COVNSwwKojRO"
      },
      "source": [
        "def isPrime(num):\n",
        "  if num > 1:\n",
        "    n = 0\n",
        "    for i in range(2, (num//2)+1):\n",
        "      if num % i == 0:\n",
        "        n = i \n",
        "        break\n",
        "    if n == 0:\n",
        "      print(f'{num} is a prime number')\n",
        "    else:\n",
        "      print(f'{num} is not a prime number')\n",
        "  else:\n",
        "    print('Number less then 2 are not prime number!')\n",
        "\n",
        "isPrime(5)"
      ],
      "execution_count": null,
      "outputs": []
    }
  ]
}